{
 "cells": [
  {
   "cell_type": "markdown",
   "id": "6347d338",
   "metadata": {},
   "source": [
    "## This notebook contains the code of the task, and also the explanations for each hypothesis. And finally the result."
   ]
  },
  {
   "cell_type": "markdown",
   "id": "3a688e40",
   "metadata": {},
   "source": [
    "#### By Noureddine Arab"
   ]
  },
  {
   "cell_type": "markdown",
   "id": "a934c536",
   "metadata": {},
   "source": [
    "I started by reading the file in the cmd using the comand >type : so I got the following result : </br>\n",
    "\n",
    "Your mission shall you accept it is to</br>\n",
    "* Explain every column.</br>\n",
    "* Find the 3 richest person.</br>\n",
    "</br>\n",
    "This is a simple test, it should not take you more 30minutes to code.</br>\n",
    "</br>\n",
    "</br>\n",
    "</br>\n",
    "a,b,c,d,e,f,g</br>\n",
    "0,longue description 0,Victor,├ëvrat,1779,0,1779</br>\n",
    "1,longue description 1,Ugo,Ogier,3218,0,3218</br>\n",
    "2,longue description 2,Gerard,Zola,3909,0,3909</br>"
   ]
  },
  {
   "cell_type": "markdown",
   "id": "c62de690",
   "metadata": {},
   "source": [
    "So I will read just the data after the first 8 rows"
   ]
  },
  {
   "cell_type": "code",
   "execution_count": 1,
   "id": "fe490f86",
   "metadata": {},
   "outputs": [],
   "source": [
    "#importing libraries\n",
    "import pandas as pd\n",
    "import time"
   ]
  },
  {
   "cell_type": "markdown",
   "id": "4d882de9",
   "metadata": {},
   "source": [
    "    I used the chunks to read the data because the file is very volumnious"
   ]
  },
  {
   "cell_type": "code",
   "execution_count": 16,
   "id": "f11346f2",
   "metadata": {},
   "outputs": [
    {
     "name": "stdout",
     "output_type": "stream",
     "text": [
      "FILE LOADED! this operation took 0.019997358322143555 seconds\n"
     ]
    }
   ],
   "source": [
    "start = time.time()\n",
    "\n",
    "df = pd.read_csv('data', skiprows=8, chunksize=100000)\n",
    "\n",
    "print(\"FILE LOADED! this operation took\", time.time()- start, \"seconds\")"
   ]
  },
  {
   "cell_type": "code",
   "execution_count": 3,
   "id": "e021e212",
   "metadata": {},
   "outputs": [
    {
     "name": "stdout",
     "output_type": "stream",
     "text": [
      "           a                     b         c        d     e  f       g\n",
      "0          0  longue description 0    Victor    Évrat  1779  0    1779\n",
      "1          1  longue description 1       Ugo    Ogier  3218  0    3218\n",
      "2          2  longue description 2    Gerard     Zola  3909  0    3909\n",
      "3          3  longue description 3    Ingrid  Quesada  2672  0    2672\n",
      "4          4  longue description 4    Xavier    Yvars  4224  0    4224\n",
      "...      ...                   ...       ...      ...   ... ..     ...\n",
      "99995  99995  longue description 3     Karim    Ogier  2635  0  251704\n",
      "99996  99996  longue description 4  Béatrice   Urbain  4796  0  245517\n",
      "99997  99997  longue description 5  Béatrice   Martin  2087  0  295785\n",
      "99998  99998  longue description 6    Pascal   Dupond  3210  0  272724\n",
      "99999  99999  longue description 7    Céline    Évrat   163  0  295845\n",
      "\n",
      "[100000 rows x 7 columns]\n"
     ]
    }
   ],
   "source": [
    "for idx, chunk in enumerate(df):\n",
    "    if idx == 0 :\n",
    "        print(chunk)\n",
    "    else:\n",
    "        break"
   ]
  },
  {
   "cell_type": "markdown",
   "id": "57d1d272",
   "metadata": {},
   "source": [
    "So analysing this first chunk we can explain the columns as follows : </br>\n",
    "<h1>a :</h1> ID.</br>\n",
    "<h1>b :</h1> Une description.</br>\n",
    "<h1>c :</h1> The name of the person.</br>\n",
    "<h1>d :</h1> The family name of the person.</br>\n",
    "<h1>e :</h1> Available Funds.</br>\n",
    "<h1>f :</h1> Outstanding Debts.</br>\n",
    "<h1>g :</h1> Balance.</br>"
   ]
  },
  {
   "cell_type": "markdown",
   "id": "dad57e22",
   "metadata": {},
   "source": [
    "So now we have to find the 3 richest persons, so I will analyse the balance column which is the \"g\" column"
   ]
  },
  {
   "cell_type": "code",
   "execution_count": 4,
   "id": "c221c8f6",
   "metadata": {},
   "outputs": [],
   "source": [
    "# Initialize variables to store the top three richest persons and their financial details\n",
    "top_richest = {\n",
    "    'first_name': ['', '', ''],\n",
    "    'last_name': ['', '', ''],\n",
    "    'balance': [0, 0, 0],\n",
    "    'available_funds': [0, 0, 0],\n",
    "    'outstanding_debts': [0, 0, 0]\n",
    "}"
   ]
  },
  {
   "cell_type": "markdown",
   "id": "ff95e612",
   "metadata": {},
   "source": [
    "For now we test just with the first chunk by putting the idx == 0"
   ]
  },
  {
   "cell_type": "code",
   "execution_count": 5,
   "id": "1f8acd49",
   "metadata": {},
   "outputs": [],
   "source": [
    "# Iterate through the chunks\n",
    "for idx, chunk in enumerate(df):\n",
    "    if idx == 0 :\n",
    "        # Check if the 'g' column exists in the chunk\n",
    "        if 'g' in chunk.columns and 'e' in chunk.columns and 'f' in chunk.columns:\n",
    "            # Find the top three richest persons in the current chunk\n",
    "            top_chunk = chunk.nlargest(3, 'g')\n",
    "\n",
    "            # Update the top_richest list if a person from the current chunk has a higher balance\n",
    "            for i in range(3):\n",
    "                if top_chunk.iloc[i]['g'] > top_richest['balance'][i]:\n",
    "                    top_richest['first_name'][i] = top_chunk.iloc[i]['c']  # Assuming 'c' contains first names\n",
    "                    top_richest['last_name'][i] = top_chunk.iloc[i]['d']  # Assuming 'd' contains last names\n",
    "                    top_richest['balance'][i] = top_chunk.iloc[i]['g']\n",
    "                    top_richest['available_funds'][i] = top_chunk.iloc[i]['e']  # Assuming 'e' contains available funds\n",
    "                    top_richest['outstanding_debts'][i] = top_chunk.iloc[i]['f']  # Assuming 'f' contains outstanding debts\n",
    "    else : break"
   ]
  },
  {
   "cell_type": "code",
   "execution_count": 6,
   "id": "0878105f",
   "metadata": {},
   "outputs": [
    {
     "name": "stdout",
     "output_type": "stream",
     "text": [
      "Top 3 Richest Persons and Their Financial Details:\n",
      "1. Name: Quentin Ferry\n",
      "   Balance: 1049191\n",
      "   Available Funds: 4381\n",
      "   Outstanding Debts: 0\n",
      "\n",
      "2. Name: Quentin Ferry\n",
      "   Balance: 1044810\n",
      "   Available Funds: 2447\n",
      "   Outstanding Debts: 0\n",
      "\n",
      "3. Name: Elodie Évrat\n",
      "   Balance: 1044702\n",
      "   Available Funds: 2864\n",
      "   Outstanding Debts: 0\n",
      "\n"
     ]
    }
   ],
   "source": [
    "# Print the result\n",
    "print(\"Top 3 Richest Persons and Their Financial Details:\")\n",
    "for i in range(3):\n",
    "    print(f\"{i+1}. Name: {top_richest['first_name'][i]} {top_richest['last_name'][i]}\")\n",
    "    print(f\"   Balance: {top_richest['balance'][i]}\")\n",
    "    print(f\"   Available Funds: {top_richest['available_funds'][i]}\")\n",
    "    print(f\"   Outstanding Debts: {top_richest['outstanding_debts'][i]}\")\n",
    "    print()"
   ]
  },
  {
   "cell_type": "markdown",
   "id": "068ce441",
   "metadata": {},
   "source": [
    "As we can see, we got Quentin Ferry with different balances, so there are multiple entries for individuals with the same name which is a problem, because we don't have enough informations to know if those persons with the same name are the same persons."
   ]
  },
  {
   "cell_type": "markdown",
   "id": "27f8b54c",
   "metadata": {},
   "source": [
    "Otherwise, we run the code to get the 3 richest perons in the whole dataset : "
   ]
  },
  {
   "cell_type": "code",
   "execution_count": 7,
   "id": "641fd487",
   "metadata": {},
   "outputs": [],
   "source": [
    "# Initialize variables to store the top three richest persons and their financial details\n",
    "top_richest_final = {\n",
    "    'ID': [0, 0, 0],\n",
    "    'first_name': ['', '', ''],\n",
    "    'last_name': ['', '', ''],\n",
    "    'balance': [0, 0, 0],\n",
    "    'available_funds': [0, 0, 0],\n",
    "    'outstanding_debts': [0, 0, 0]\n",
    "}"
   ]
  },
  {
   "cell_type": "code",
   "execution_count": 8,
   "id": "11a7fd59",
   "metadata": {},
   "outputs": [
    {
     "name": "stdout",
     "output_type": "stream",
     "text": [
      "Done! this operation took 707.532478094101 seconds\n"
     ]
    }
   ],
   "source": [
    "start = time.time()\n",
    "# Iterate through the chunks\n",
    "for idx, chunk in enumerate(df):\n",
    "    # Check if the 'g' column exists in the chunk\n",
    "    if 'g' in chunk.columns and 'e' in chunk.columns and 'f' in chunk.columns:\n",
    "        # Find the top three richest persons in the current chunk\n",
    "        top_chunk = chunk.nlargest(3, 'g')\n",
    "\n",
    "        # Update the top_richest list if a person from the current chunk has a higher balance\n",
    "        for i in range(3):\n",
    "            if top_chunk.iloc[i]['g'] > top_richest_final['balance'][i]:\n",
    "                top_richest_final['ID'][i] = top_chunk.iloc[i]['a']  # Assuming 'a' contains IDs\n",
    "                top_richest_final['first_name'][i] = top_chunk.iloc[i]['c']  # Assuming 'c' contains first names\n",
    "                top_richest_final['last_name'][i] = top_chunk.iloc[i]['d']  # Assuming 'd' contains last names\n",
    "                top_richest_final['balance'][i] = top_chunk.iloc[i]['g']\n",
    "                top_richest_final['available_funds'][i] = top_chunk.iloc[i]['e']  # Assuming 'e' contains available funds\n",
    "                top_richest_final['outstanding_debts'][i] = top_chunk.iloc[i]['f']  # Assuming 'f' contains outstanding debts\n",
    "        \n",
    "print(\"Done! this operation took\", time.time()-start, \"seconds\")"
   ]
  },
  {
   "cell_type": "code",
   "execution_count": 9,
   "id": "e3aebf36",
   "metadata": {},
   "outputs": [
    {
     "name": "stdout",
     "output_type": "stream",
     "text": [
      "Top 3 Richest Persons and Their Financial Details:\n",
      "1. ID: 299998364\n",
      "   Name: Zoé Walliand\n",
      "   Balance: 893775958\n",
      "   Available Funds: 435\n",
      "   Outstanding Debts: 0\n",
      "\n",
      "2. ID: 299999538\n",
      "   Name: Zoé Walliand\n",
      "   Balance: 893775893\n",
      "   Available Funds: 0\n",
      "   Outstanding Debts: -65\n",
      "\n",
      "3. ID: 299997702\n",
      "   Name: Zoé Walliand\n",
      "   Balance: 893775523\n",
      "   Available Funds: 3382\n",
      "   Outstanding Debts: 0\n",
      "\n"
     ]
    }
   ],
   "source": [
    "# Print the result\n",
    "print(\"Top 3 Richest Persons and Their Financial Details:\")\n",
    "for i in range(3):\n",
    "    print(f\"{i+1}. ID: {top_richest_final['ID'][i]}\")\n",
    "    print(f\"   Name: {top_richest_final['first_name'][i]} {top_richest_final['last_name'][i]}\")\n",
    "    print(f\"   Balance: {top_richest_final['balance'][i]}\")\n",
    "    print(f\"   Available Funds: {top_richest_final['available_funds'][i]}\")\n",
    "    print(f\"   Outstanding Debts: {top_richest_final['outstanding_debts'][i]}\")\n",
    "    print()"
   ]
  },
  {
   "cell_type": "markdown",
   "id": "e3e632b5",
   "metadata": {},
   "source": [
    "So If we see the result, we can conclude another hypothesis : the data contains records of debit and credit transactions, and it's clear that the \"e\" column is the debit, the \"f\" column is the credit and the \"g\" column is the new amount (assuming lower ID means newer transaction because if we analyse the output of the previous code we can conclude that the new amount correspond to the transaction with the lower id which is column \"a\")"
   ]
  },
  {
   "cell_type": "markdown",
   "id": "389b966f",
   "metadata": {},
   "source": [
    "## The new columns explanation will be as follows :"
   ]
  },
  {
   "cell_type": "markdown",
   "id": "8a512128",
   "metadata": {},
   "source": [
    "<h1>a :</h1> ID.</br>\n",
    "<h1>b :</h1> Description.</br>\n",
    "<h1>c :</h1> The name of the person.</br>\n",
    "<h1>d :</h1> The family name of the person.</br>\n",
    "<h1>e :</h1> New Amount</br>\n",
    "<h1>f :</h1> Debit Transaction</br>\n",
    "<h1>g :</h1> Credit Transaction</br>"
   ]
  },
  {
   "cell_type": "markdown",
   "id": "eed54ea0",
   "metadata": {},
   "source": [
    "So we will group by First Name and Last Name and keep the row with the maximum Transaction ID (assuming higher ID means newer transaction)"
   ]
  },
  {
   "cell_type": "code",
   "execution_count": 17,
   "id": "f6042311",
   "metadata": {},
   "outputs": [],
   "source": [
    "# Initialize variables to store the top three richest persons and their financial details\n",
    "top_richest = {\n",
    "    'ID': [0, 0, 0],\n",
    "    'first_name': ['', '', ''],\n",
    "    'last_name': ['', '', ''],\n",
    "    'balance': [0, 0, 0],\n",
    "}"
   ]
  },
  {
   "cell_type": "code",
   "execution_count": 18,
   "id": "f8b0d04c",
   "metadata": {},
   "outputs": [],
   "source": [
    "# Iterate through the chunks\n",
    "for idx, chunk in enumerate(df):\n",
    "    chunk1 = chunk.loc[chunk.groupby(['c', 'd'])['a'].idxmin()]\n",
    "    # Check if the 'g' column exists in the chunk\n",
    "    if 'g' in chunk1.columns and 'e' in chunk1.columns and 'f' in chunk1.columns:\n",
    "        # Find the top three richest persons in the current chunk\n",
    "        top_chunk = chunk1.nlargest(3, 'g')\n",
    "\n",
    "        # Update the top_richest list if a person from the current chunk has a higher balance\n",
    "        for i in range(3):\n",
    "            if top_chunk.iloc[i]['g'] > top_richest['balance'][i]:\n",
    "                top_richest['ID'][i] = top_chunk.iloc[i]['a']  # Assuming 'a' contains IDs\n",
    "                top_richest['first_name'][i] = top_chunk.iloc[i]['c']  # Assuming 'c' contains first names\n",
    "                top_richest['last_name'][i] = top_chunk.iloc[i]['d']  # Assuming 'd' contains last names\n",
    "                top_richest['balance'][i] = top_chunk.iloc[i]['g']"
   ]
  },
  {
   "cell_type": "code",
   "execution_count": 19,
   "id": "a3c75970",
   "metadata": {},
   "outputs": [
    {
     "name": "stdout",
     "output_type": "stream",
     "text": [
      "1. ID: 299900475\n",
      "   Name: Zoé Walliand\n",
      "   Balance: 893476875\n",
      "\n",
      "2. ID: 299901337\n",
      "   Name: Gerard Parmentier\n",
      "   Balance: 891936224\n",
      "\n",
      "3. ID: 299900031\n",
      "   Name: Océane Urbain\n",
      "   Balance: 891588324\n",
      "\n"
     ]
    }
   ],
   "source": [
    "for i in range(3):\n",
    "    print(f\"{i+1}. ID: {top_richest['ID'][i]}\")\n",
    "    print(f\"   Name: {top_richest['first_name'][i]} {top_richest['last_name'][i]}\")\n",
    "    print(f\"   Balance: {top_richest['balance'][i]}\")\n",
    "    print()"
   ]
  }
 ],
 "metadata": {
  "kernelspec": {
   "display_name": "Python 3 (ipykernel)",
   "language": "python",
   "name": "python3"
  },
  "language_info": {
   "codemirror_mode": {
    "name": "ipython",
    "version": 3
   },
   "file_extension": ".py",
   "mimetype": "text/x-python",
   "name": "python",
   "nbconvert_exporter": "python",
   "pygments_lexer": "ipython3",
   "version": "3.11.5"
  }
 },
 "nbformat": 4,
 "nbformat_minor": 5
}
