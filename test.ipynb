{
 "cells": [
  {
   "cell_type": "code",
   "execution_count": 27,
   "id": "cd2c2ec0",
   "metadata": {},
   "outputs": [],
   "source": [
    "#importing libraries\n",
    "import pandas as pd\n",
    "import time"
   ]
  },
  {
   "cell_type": "code",
   "execution_count": 28,
   "id": "0ba82aa6",
   "metadata": {},
   "outputs": [
    {
     "name": "stdout",
     "output_type": "stream",
     "text": [
      "FILE LOADED! this operation took 0.0069997310638427734 seconds\n"
     ]
    }
   ],
   "source": [
    "start = time.time()\n",
    "\n",
    "df = pd.read_csv('data', skiprows=8, chunksize=100000)\n",
    "\n",
    "print(\"FILE LOADED! this operation took\", time.time()- start, \"seconds\")"
   ]
  },
  {
   "cell_type": "code",
   "execution_count": 32,
   "id": "341b06fe",
   "metadata": {},
   "outputs": [],
   "source": [
    "# Initialize variables to store the top three richest persons and their financial details\n",
    "top_richest = {\n",
    "    'ID': [0, 0, 0],\n",
    "    'first_name': ['', '', ''],\n",
    "    'last_name': ['', '', ''],\n",
    "    'balance': [0, 0, 0],\n",
    "    'available_funds': [0, 0, 0],\n",
    "    'outstanding_debts': [0, 0, 0]\n",
    "}"
   ]
  },
  {
   "cell_type": "code",
   "execution_count": 33,
   "id": "2bea2e26",
   "metadata": {},
   "outputs": [],
   "source": [
    "# Iterate through the chunks\n",
    "for idx, chunk in enumerate(df):\n",
    "    if idx == 0 :\n",
    "        chunk1 = chunk.loc[chunk.groupby(['c', 'd'])['a'].idxmax()]\n",
    "        # Check if the 'g' column exists in the chunk\n",
    "        if 'g' in chunk1.columns and 'e' in chunk1.columns and 'f' in chunk1.columns:\n",
    "            # Find the top three richest persons in the current chunk\n",
    "            top_chunk = chunk1.nlargest(3, 'g')\n",
    "\n",
    "            # Update the top_richest list if a person from the current chunk has a higher balance\n",
    "            for i in range(3):\n",
    "                if top_chunk.iloc[i]['g'] > top_richest['balance'][i]:\n",
    "                    top_richest['ID'][i] = top_chunk.iloc[i]['a']  # Assuming 'a' contains IDs\n",
    "                    top_richest['first_name'][i] = top_chunk.iloc[i]['c']  # Assuming 'c' contains first names\n",
    "                    top_richest['last_name'][i] = top_chunk.iloc[i]['d']  # Assuming 'd' contains last names\n",
    "                    top_richest['balance'][i] = top_chunk.iloc[i]['g']\n",
    "                    top_richest['available_funds'][i] = top_chunk.iloc[i]['e']  # Assuming 'e' contains available funds\n",
    "                    top_richest['outstanding_debts'][i] = top_chunk.iloc[i]['f']  # Assuming 'f' contains outstanding debts\n",
    "\n",
    "    else : break"
   ]
  },
  {
   "cell_type": "code",
   "execution_count": 34,
   "id": "e7287243",
   "metadata": {},
   "outputs": [
    {
     "name": "stdout",
     "output_type": "stream",
     "text": [
      "1. ID: 299995\n",
      "   Name: Quentin Ferry\n",
      "   Balance: 1049191\n",
      "   Available Funds: 4381\n",
      "   Outstanding Debts: 0\n",
      "\n",
      "2. ID: 299495\n",
      "   Name: Elodie Évrat\n",
      "   Balance: 1044702\n",
      "   Available Funds: 2864\n",
      "   Outstanding Debts: 0\n",
      "\n",
      "3. ID: 299050\n",
      "   Name: Victor Urbain\n",
      "   Balance: 1040777\n",
      "   Available Funds: 3571\n",
      "   Outstanding Debts: 0\n",
      "\n"
     ]
    }
   ],
   "source": [
    "for i in range(3):\n",
    "    print(f\"{i+1}. ID: {top_richest['ID'][i]}\")\n",
    "    print(f\"   Name: {top_richest['first_name'][i]} {top_richest['last_name'][i]}\")\n",
    "    print(f\"   Balance: {top_richest['balance'][i]}\")\n",
    "    print(f\"   Available Funds: {top_richest['available_funds'][i]}\")\n",
    "    print(f\"   Outstanding Debts: {top_richest['outstanding_debts'][i]}\")\n",
    "    print()"
   ]
  },
  {
   "cell_type": "code",
   "execution_count": 23,
   "id": "5c41b73f",
   "metadata": {},
   "outputs": [
    {
     "name": "stdout",
     "output_type": "stream",
     "text": [
      "             a                     b         c         d     e    f        g\n",
      "598148  598148  longue description 4  Amandine     Aubry  3326    0  1846263\n",
      "597537  597537  longue description 1  Amandine   Barbier  2838    0  1729232\n",
      "599005  599005  longue description 5  Amandine    Cannet   756    0  1847649\n",
      "599726  599726  longue description 6  Amandine    Dupond  3224    0  1635299\n",
      "599748  599748  longue description 4  Amandine     Ferry  1283    0  1765067\n",
      "...        ...                   ...       ...       ...   ...  ...      ...\n",
      "599537  599537  longue description 1       Zoé  Walliand  2133    0  1837772\n",
      "599899  599899  longue description 3       Zoé    Xharde     0 -503  1821674\n",
      "599945  599945  longue description 1       Zoé     Yvars     0 -464  1773898\n",
      "598361  598361  longue description 1       Zoé      Zola  1952    0  1812917\n",
      "599457  599457  longue description 1       Zoé     Évrat  3632    0  1895409\n",
      "\n",
      "[676 rows x 7 columns]\n"
     ]
    }
   ],
   "source": [
    "for idx, chunk in enumerate(df):\n",
    "    if idx == 0 :\n",
    "        #print(chunk[['c','d','g']])\n",
    "        # Group by First Name and Last Name and keep the row with the maximum Transaction ID (assuming higher ID means newer transaction)\n",
    "        most_recent_transactions = chunk.loc[chunk.groupby(['c', 'd'])['a'].idxmax()]\n",
    "        print(most_recent_transactions)\n",
    "    else:\n",
    "        break"
   ]
  },
  {
   "cell_type": "code",
   "execution_count": 20,
   "id": "cf274393",
   "metadata": {},
   "outputs": [],
   "source": [
    "# Iterate through the chunks\n",
    "for idx, chunk in enumerate(df):\n",
    "    if idx == 0 :\n",
    "        # Check if the 'g' column exists in the chunk\n",
    "        if 'g' in chunk.columns and 'e' in chunk.columns and 'f' in chunk.columns:\n",
    "            # Find the top three richest persons in the current chunk\n",
    "            top_chunk = chunk.nlargest(3, 'g')\n",
    "\n",
    "            # Update the top_richest list if a person from the current chunk has a higher balance\n",
    "            for i in range(3):\n",
    "                if top_chunk.iloc[i]['g'] > top_richest['balance'][i]:\n",
    "                    top_richest['first_name'][i] = top_chunk.iloc[i]['a']  # Assuming 'c' contains first names\n",
    "                    top_richest['last_name'][i] = top_chunk.iloc[i]['d']  # Assuming 'd' contains last names\n",
    "                    top_richest['balance'][i] = top_chunk.iloc[i]['g']\n",
    "                    top_richest['available_funds'][i] = top_chunk.iloc[i]['e']  # Assuming 'e' contains available funds\n",
    "                    top_richest['outstanding_debts'][i] = top_chunk.iloc[i]['f']  # Assuming 'f' contains outstanding debts\n",
    "    else : break"
   ]
  },
  {
   "cell_type": "code",
   "execution_count": null,
   "id": "8b4fa9c8",
   "metadata": {},
   "outputs": [],
   "source": []
  }
 ],
 "metadata": {
  "kernelspec": {
   "display_name": "Python 3 (ipykernel)",
   "language": "python",
   "name": "python3"
  },
  "language_info": {
   "codemirror_mode": {
    "name": "ipython",
    "version": 3
   },
   "file_extension": ".py",
   "mimetype": "text/x-python",
   "name": "python",
   "nbconvert_exporter": "python",
   "pygments_lexer": "ipython3",
   "version": "3.11.5"
  }
 },
 "nbformat": 4,
 "nbformat_minor": 5
}
